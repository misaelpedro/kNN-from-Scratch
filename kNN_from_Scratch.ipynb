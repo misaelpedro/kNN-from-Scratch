{
  "nbformat": 4,
  "nbformat_minor": 0,
  "metadata": {
    "colab": {
      "name": "kNN  from Scratch.ipynb",
      "provenance": [],
      "collapsed_sections": []
    },
    "kernelspec": {
      "name": "python3",
      "display_name": "Python 3"
    }
  },
  "cells": [
    {
      "cell_type": "code",
      "metadata": {
        "id": "a1QCG7XuYQTS"
      },
      "source": [
        "# Obtendo o dataset iris\n",
        "from sklearn import datasets\n",
        "import numpy as np\n",
        "from collections import Counter\n",
        "\n",
        "iris = datasets.load_iris()\n",
        "x = iris.data # atributos previsores\n",
        "y = iris.target # atributo alvo\n"
      ],
      "execution_count": 2,
      "outputs": []
    },
    {
      "cell_type": "code",
      "metadata": {
        "id": "_6fSVGBalu5g"
      },
      "source": [
        "#O primeiro passo é dividir os dados entre treino e teste. \n",
        "#para isso é necessário primeiro embaralhar os dados, para que o algoritimo kNN possa ter acesso a informações de todas as classes.\n",
        "#em seguida, Separamos os dado conforme a porcentagem previamente definida.     \n",
        "def Divisao_treino_teste(atributo_previsor, atributo_alvo, porcentagem_treino):\n",
        "  n_linhas=atributo_previsor.shape[0]\n",
        "  np.random.seed(1435345435)\n",
        "  nova_ordem=np.random.permutation(n_linhas)\n",
        "  X=atributo_previsor[nova_ordem]\n",
        "  Y=atributo_alvo[nova_ordem]\n",
        "  volume_treino=int(n_linhas*porcentagem_treino)\n",
        "  X_treino=X[0:volume_treino]\n",
        "  Y_treino=Y[0:volume_treino]\n",
        "  X_teste=X[volume_treino:]\n",
        "  Y_teste=Y[volume_treino:]\n",
        "\n",
        "  return (X_treino, Y_treino, X_teste, Y_teste)"
      ],
      "execution_count": 3,
      "outputs": []
    },
    {
      "cell_type": "code",
      "metadata": {
        "id": "CaeYegvqYLRx"
      },
      "source": [
        "class kNN:\n",
        "  def __init__(self, k=5):\n",
        "    self.k=k\n",
        "  #O parametro \"k\" é o unico utilizado pelo algoritiimo e ira definir quantos vizinhos serão selecionados para fazer a classificação   \n",
        "\n",
        "  def distancia_euclidiana(self, a, b):\n",
        "    return np.sqrt(np.sum((a-b)**2))\n",
        "  #O cálculo da distância euclidiana foi usado para calcular a distância  entre os pontos. \n",
        "  \n",
        "  def treino(self, X_tr, Y_tr):\n",
        "    self.X_train=X_tr\n",
        "    self.Y_train=Y_tr\n",
        "  #Essa função carrega os dados de treino, os dados de X serão usados para calcular a distância euclidiana e os y serão usados para classificar\n",
        "  \n",
        "  def previsao(self, X_te):\n",
        "    previstos=[]\n",
        "    for linha in X_te:\n",
        "      previstos.append(self.previsor(linha))\n",
        "    return np.array(previstos)\n",
        "  #através dessa função, cada linha do array de teste tera sua distância euclidiana calculada, com relação a todas as linhas dos dados de treino.\n",
        "\n",
        "  def previsor(self, x):\n",
        "\n",
        "    dist=[self.distancia_euclidiana(x, x_train)for x_train in self.X_train]\n",
        "    \n",
        "    loc=np.argsort(dist)[:self.k] \n",
        "    vizinhos =[]\n",
        "    for i in loc:\n",
        "      vizinhos.append(self.Y_train[i])  \n",
        "    \n",
        "    most_common = Counter(vizinhos).most_common(1)\n",
        "    return most_common[0][0]\n",
        "  #Como dito, cada linha do array de teste terá sua distância euclidiana calcula. Após isso serão selecionados \"k\" rótulos \n",
        "  #com a menor distância euclidiana, para fazer a classificação observando qual o rótulo que mais se repete entre os \"k\"selecionados. \n",
        "    "
      ],
      "execution_count": 4,
      "outputs": []
    },
    {
      "cell_type": "code",
      "metadata": {
        "id": "4uO1qoTHu4PB"
      },
      "source": [
        "def acuracia( array_1, array_2):\n",
        "   acertos=(np.sum(array_1==array_2) / array_1.shape[0])\n",
        "   print(\"A porcetagem de acertos é {:.2f}%\".format(acertos*100))\n",
        "\n",
        "#Para saber determinar a acurácia do modelo, pode-se fazer uma comparação entre os valores de alvos previstos e os reais. "
      ],
      "execution_count": 5,
      "outputs": []
    },
    {
      "cell_type": "code",
      "metadata": {
        "colab": {
          "base_uri": "https://localhost:8080/"
        },
        "id": "4xbts-YVt95V",
        "outputId": "c24c5000-ba66-44b6-a67e-5ce301911e42"
      },
      "source": [
        "divisao=Divisao_treino_teste(x,y, 0.8)\n",
        "X_train, Y_train, X_test, Y_test=(divisao[0],divisao[1],divisao[2],divisao[3])\n",
        "\n",
        "prever=kNN()\n",
        "prever.treino(X_train, Y_train)\n",
        "classe_pred=prever.previsao(X_test)\n",
        "print(classe_pred)\n",
        "acuracia(classe_pred, Y_test)\n",
        "\n",
        "\n"
      ],
      "execution_count": 8,
      "outputs": [
        {
          "output_type": "stream",
          "text": [
            "[2 1 2 2 1 1 1 2 2 2 2 2 2 1 1 1 0 1 0 1 2 0 1 1 1 1 0 0 2 2]\n",
            "A porcetagem de acertos é 93.33%\n"
          ],
          "name": "stdout"
        }
      ]
    },
    {
      "cell_type": "code",
      "metadata": {
        "colab": {
          "base_uri": "https://localhost:8080/"
        },
        "id": "ETbcaNIhzjDT",
        "outputId": "ee2eadd0-f344-417f-c905-c2726680086d"
      },
      "source": [
        "from sklearn.neighbors import KNeighborsClassifier\n",
        "\n",
        "neigh = KNeighborsClassifier(n_neighbors=5)\n",
        "neigh.fit(X_train, Y_train)\n",
        "predicoes = neigh.predict(X_test)\n",
        "print(predicoes)\n",
        "\n",
        "acuracia(predicoes, Y_test)"
      ],
      "execution_count": 9,
      "outputs": [
        {
          "output_type": "stream",
          "text": [
            "[2 1 2 2 1 1 1 2 2 2 2 2 2 1 1 1 0 1 0 1 2 0 1 1 1 1 0 0 2 2]\n",
            "A porcetagem de acertos é 93.33%\n"
          ],
          "name": "stdout"
        }
      ]
    }
  ]
}